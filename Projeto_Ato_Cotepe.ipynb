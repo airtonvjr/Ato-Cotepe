{
  "nbformat": 4,
  "nbformat_minor": 0,
  "metadata": {
    "colab": {
      "name": "Projeto Ato Cotepe.ipynb",
      "provenance": []
    },
    "kernelspec": {
      "name": "python3",
      "display_name": "Python 3"
    }
  },
  "cells": [
    {
      "cell_type": "code",
      "metadata": {
        "id": "XxR8kD8jm2Sl",
        "colab_type": "code",
        "colab": {}
      },
      "source": [
        "from bs4 import BeautifulSoup\n",
        "import pandas as pd\n",
        "import requests as rq\n",
        "import seaborn as sns\n",
        "import matplotlib.pyplot as plt"
      ],
      "execution_count": null,
      "outputs": []
    },
    {
      "cell_type": "code",
      "metadata": {
        "id": "BBd2ALXsm6qT",
        "colab_type": "code",
        "colab": {
          "base_uri": "https://localhost:8080/",
          "height": 221
        },
        "outputId": "7becf832-f608-4292-dc73-881a11013b45"
      },
      "source": [
        "site = rq.get('http://www.in.gov.br/en/web/dou/-/ato-cotepe/pmpf-n-22-de-9-de-julho-de-2020-266121128')\n",
        "\n",
        "if site.status_code == 200:\n",
        "    print('Requisição bem sucedida!')\n",
        "    content = site.content\n",
        "\n",
        "soup = BeautifulSoup(content, 'html.parser')\n",
        "table = soup.find_all('table')\n",
        "\n",
        "table_str = str(table)\n",
        "confaz = pd.read_html(table_str)[0]\n",
        "\n",
        "\n",
        "confaz.rename(columns={'Unnamed: 0':'Contador', 'Unnamed: 1':'UF', \n",
        "                       'Unnamed: 2':'GAC', 'Unnamed: 3':'GAP', \n",
        "                       'Unnamed: 4':'DIESEL S10','Unnamed: 5':'ÓLEO DIESEL', \n",
        "                       'Unnamed: 6':'GLP(P13)', 'Unnamed: 7':'GLP',\n",
        "                       'Unnamed: 8':'QAV', 'Unnamed: 9':'AEHC', \n",
        "                       'Unnamed: 10':'GNV', 'Unnamed: 11':'GNI', \n",
        "                       'Unnamed: 12':'ÓLEO COMBUSTÍVEL','Unnamed: 13':'Vazio'},\n",
        "              inplace=True)\n",
        "\n",
        "confaz_padrao = confaz.drop([0,1,2])\n",
        "confaz_final = confaz_padrao.drop(columns=[\"GLP(P13)\",\"GLP\",\"QAV\",\"GNV\",\"GNI\",\n",
        "                                           \"ÓLEO COMBUSTÍVEL\",\"Vazio\"])\n",
        "confaz_final.head()"
      ],
      "execution_count": 14,
      "outputs": [
        {
          "output_type": "stream",
          "text": [
            "Requisição bem sucedida!\n"
          ],
          "name": "stdout"
        },
        {
          "output_type": "execute_result",
          "data": {
            "text/html": [
              "<div>\n",
              "<style scoped>\n",
              "    .dataframe tbody tr th:only-of-type {\n",
              "        vertical-align: middle;\n",
              "    }\n",
              "\n",
              "    .dataframe tbody tr th {\n",
              "        vertical-align: top;\n",
              "    }\n",
              "\n",
              "    .dataframe thead th {\n",
              "        text-align: right;\n",
              "    }\n",
              "</style>\n",
              "<table border=\"1\" class=\"dataframe\">\n",
              "  <thead>\n",
              "    <tr style=\"text-align: right;\">\n",
              "      <th></th>\n",
              "      <th>Contador</th>\n",
              "      <th>UF</th>\n",
              "      <th>GAC</th>\n",
              "      <th>GAP</th>\n",
              "      <th>DIESEL S10</th>\n",
              "      <th>ÓLEO DIESEL</th>\n",
              "      <th>AEHC</th>\n",
              "    </tr>\n",
              "  </thead>\n",
              "  <tbody>\n",
              "    <tr>\n",
              "      <th>3</th>\n",
              "      <td>1</td>\n",
              "      <td>AC</td>\n",
              "      <td>*4,7386</td>\n",
              "      <td>*4,7386</td>\n",
              "      <td>*4,0829</td>\n",
              "      <td>*4,0459</td>\n",
              "      <td>**3,7114</td>\n",
              "    </tr>\n",
              "    <tr>\n",
              "      <th>4</th>\n",
              "      <td>2</td>\n",
              "      <td>AL</td>\n",
              "      <td>*4,3354</td>\n",
              "      <td>*4,3961</td>\n",
              "      <td>*3,5068</td>\n",
              "      <td>*3,3903</td>\n",
              "      <td>*3,3981</td>\n",
              "    </tr>\n",
              "    <tr>\n",
              "      <th>5</th>\n",
              "      <td>3</td>\n",
              "      <td>AM</td>\n",
              "      <td>**3,8995</td>\n",
              "      <td>**3,8995</td>\n",
              "      <td>**3,3954</td>\n",
              "      <td>**3,1983</td>\n",
              "      <td>**3,2085</td>\n",
              "    </tr>\n",
              "    <tr>\n",
              "      <th>6</th>\n",
              "      <td>4</td>\n",
              "      <td>AP</td>\n",
              "      <td>*3,2780</td>\n",
              "      <td>*3,2780</td>\n",
              "      <td>*3,4270</td>\n",
              "      <td>*3,3470</td>\n",
              "      <td>**3,6900</td>\n",
              "    </tr>\n",
              "    <tr>\n",
              "      <th>7</th>\n",
              "      <td>5</td>\n",
              "      <td>BA</td>\n",
              "      <td>44020</td>\n",
              "      <td>52000</td>\n",
              "      <td>33930</td>\n",
              "      <td>33410</td>\n",
              "      <td>34070</td>\n",
              "    </tr>\n",
              "  </tbody>\n",
              "</table>\n",
              "</div>"
            ],
            "text/plain": [
              "  Contador  UF       GAC       GAP DIESEL S10 ÓLEO DIESEL      AEHC\n",
              "3        1  AC   *4,7386   *4,7386    *4,0829     *4,0459  **3,7114\n",
              "4        2  AL   *4,3354   *4,3961    *3,5068     *3,3903   *3,3981\n",
              "5        3  AM  **3,8995  **3,8995   **3,3954    **3,1983  **3,2085\n",
              "6        4  AP   *3,2780   *3,2780    *3,4270     *3,3470  **3,6900\n",
              "7        5  BA     44020     52000      33930       33410     34070"
            ]
          },
          "metadata": {
            "tags": []
          },
          "execution_count": 14
        }
      ]
    }
  ]
}